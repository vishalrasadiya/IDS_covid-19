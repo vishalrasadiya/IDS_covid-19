{
 "cells": [
  {
   "cell_type": "code",
   "execution_count": null,
   "metadata": {},
   "outputs": [],
   "source": [
    "import pandas as pd\n",
    "import numpy as np\n",
    "\n",
    "from datetime import datetime\n",
    "import pandas as pd \n",
    "from scipy import optimize\n",
    "from scipy import integrate\n",
    "\n",
    "%matplotlib inline\n",
    "import matplotlib as mpl\n",
    "import matplotlib.pyplot as plt\n",
    "import seaborn as sns\n",
    "\n",
    "sns.set(style=\"darkgrid\")\n",
    "mpl.rcParams['figure.figsize'] = (16, 9)\n",
    "pd.set_option('display.max_rows', 500)"
   ]
  },
  {
   "cell_type": "code",
   "execution_count": null,
   "metadata": {},
   "outputs": [],
   "source": [
    "df_analyse=pd.read_csv('E:/ads_covid-19/data/processed/COVID_flat_small_table.csv',sep=';')  \n",
    "df_analyse.sort_values('Date',ascending=True).head()"
   ]
  },
  {
   "cell_type": "markdown",
   "metadata": {},
   "source": [
    "# SIR Model"
   ]
  },
  {
   "cell_type": "markdown",
   "metadata": {},
   "source": [
    "- The SIR model is one of the simplest compartmental models, and many models are derivatives of this basic form.\n",
    "- The model consists of three compartments:\n",
    "    - S: The number of susceptible individuals\n",
    "    - I: The number of infectious individuals\n",
    "    - R for the number of removed (and immune) or deceased individuals.\n",
    "- Source: https://en.wikipedia.org/wiki/Compartmental_models_in_epidemiology#The_SIR_model"
   ]
  },
  {
   "cell_type": "code",
   "execution_count": null,
   "metadata": {},
   "outputs": [],
   "source": [
    "# Set basic parameters\n",
    "# beta/gamma is denoted as basic reproduction number\n",
    "\n",
    "N0 = 1000000 # Maximum susceptible population\n",
    "beta = 0.4   # Infection spread dynamics\n",
    "gamma = 0.1  # Recovery rate\n",
    "\n",
    "I0=df_analyse.Germany[35] # Starting from 35th day\n",
    "S0=N0-I0\n",
    "R0=0"
   ]
  },
  {
   "cell_type": "code",
   "execution_count": null,
   "metadata": {},
   "outputs": [],
   "source": [
    "def SIR_model(SIR, beta, gamma):\n",
    "    ''' Simple SIR model\n",
    "        S: Susceptible population\n",
    "        I: Infected people\n",
    "        R: Recovered people\n",
    "        beta: Infection spread dynamics\n",
    "        gamma: Recovery rate\n",
    "        \n",
    "        overall condition is that the sum of changes(differnces) sum up to 0\n",
    "        dS+dI+dR=0\n",
    "        \n",
    "        S+I+R= N (constant size of population)\n",
    "    \n",
    "    '''\n",
    "    S,I,R = SIR\n",
    "    dS_dt = -beta*I*S/N0\n",
    "    dI_dt = beta*I*S/N0 - gamma*I\n",
    "    dR_dt = gamma*I\n",
    "    \n",
    "    return [dS_dt, dI_dt, dR_dt]\n"
   ]
  },
  {
   "cell_type": "markdown",
   "metadata": {},
   "source": [
    "# Simulative Approach to Calculate SIR Curves"
   ]
  },
  {
   "cell_type": "code",
   "execution_count": null,
   "metadata": {},
   "outputs": [],
   "source": [
    "SIR = np.array([S0, I0, R0])\n",
    "propagation_rates = pd.DataFrame(columns = {'S': S0, 'I':I0, 'R':R0})\n",
    "\n",
    "for i in range(100):\n",
    "    delta_vec = SIR_model(SIR, beta, gamma)\n",
    "    SIR = SIR + delta_vec\n",
    "    propagation_rates = propagation_rates.append({'S': SIR[0], 'I' : SIR[1], 'R' : SIR[2]}, ignore_index = True)"
   ]
  },
  {
   "cell_type": "code",
   "execution_count": null,
   "metadata": {},
   "outputs": [],
   "source": [
    "fig, ax = plt.subplots(1,1)\n",
    "ax.plot(propagation_rates.index, propagation_rates['S'], label = 'S')\n",
    "ax.plot(propagation_rates.index, propagation_rates['I'], label = 'I')\n",
    "ax.plot(propagation_rates.index, propagation_rates['R'], label = 'R')\n",
    "ax.set_ylim(10, 1000000)\n",
    "ax.set_yscale('linear')\n",
    "ax.set_title('Scenario SIR simulations(demonstration purposes only)',size=16)\n",
    "ax.set_xlabel('Time in days',size=16)\n",
    "ax.set_ylabel('Number of individuals',size=16)\n",
    "ax.legend(loc='best',\n",
    "           prop={'size': 16});"
   ]
  },
  {
   "cell_type": "markdown",
   "metadata": {},
   "source": [
    "# Fitting parameters of SIR model"
   ]
  },
  {
   "cell_type": "markdown",
   "metadata": {},
   "source": [
    "- scipy.optimize.curve_fit: https://docs.scipy.org/doc/scipy/reference/generated/scipy.optimize.curve_fit.html\n",
    "- scipy.integrate.odeint: https://docs.scipy.org/doc/scipy/reference/generated/scipy.integrate.odeint.html"
   ]
  },
  {
   "cell_type": "code",
   "execution_count": null,
   "metadata": {},
   "outputs": [],
   "source": [
    "ydata = np.array(df_analyse.Germany[35:])\n",
    "t = np.arange(len(ydata))\n",
    "\n",
    "# Re-initialization\n",
    "I0=ydata[0]\n",
    "S0=N0-I0\n",
    "R0=0\n",
    "beta = 0.4\n",
    "gamma = 0.1"
   ]
  },
  {
   "cell_type": "code",
   "execution_count": null,
   "metadata": {},
   "outputs": [],
   "source": [
    "def SIR_model_t(SIR, t, beta, gamma):\n",
    "    ''' Simple SIR model\n",
    "        S: Susceptible population\n",
    "        I: Infected people\n",
    "        R: Recovered people\n",
    "        beta: Infection spread dynamics\n",
    "        gamma: Recovery rate\n",
    "        \n",
    "        overall condition is that the sum of changes(differnces) sum up to 0\n",
    "        dS+dI+dR=0\n",
    "        \n",
    "        S+I+R= N (constant size of population)\n",
    "    \n",
    "    '''\n",
    "    S,I,R=SIR\n",
    "    dS_dt = -beta*I*S/N0\n",
    "    dI_dt = beta*I*S/N0 - gamma*I\n",
    "    dR_dt = gamma*I\n",
    "    \n",
    "    return dS_dt, dI_dt, dR_dt"
   ]
  },
  {
   "cell_type": "code",
   "execution_count": null,
   "metadata": {},
   "outputs": [],
   "source": [
    "def fit_odeint(x, beta, gamma):\n",
    "    '''\n",
    "    Helper function for the integration\n",
    "    '''    \n",
    "    return integrate.odeint(SIR_model_t, (S0, I0, R0), x, args=(beta, gamma))[:,1] # We are interested only in dI"
   ]
  },
  {
   "cell_type": "code",
   "execution_count": null,
   "metadata": {},
   "outputs": [],
   "source": [
    "# Example curve of our differential equation\n",
    "popt=[0.4,0.1]\n",
    "fit_odeint(t, *popt)"
   ]
  },
  {
   "cell_type": "code",
   "execution_count": null,
   "metadata": {},
   "outputs": [],
   "source": [
    "popt, pcov = optimize.curve_fit(fit_odeint, t, ydata)\n",
    "perr = np.sqrt(np.diag(pcov))\n",
    "    \n",
    "print('standard deviation errors : ',str(perr), ' start infect:',ydata[0])\n",
    "print(\"Optimal parameters: beta =\", popt[0], \" and gamma = \", popt[1])"
   ]
  },
  {
   "cell_type": "code",
   "execution_count": null,
   "metadata": {},
   "outputs": [],
   "source": [
    "# Get the final fitted curve\n",
    "fitted=fit_odeint(t, *popt)"
   ]
  },
  {
   "cell_type": "code",
   "execution_count": null,
   "metadata": {},
   "outputs": [],
   "source": [
    "fitted"
   ]
  },
  {
   "cell_type": "code",
   "execution_count": null,
   "metadata": {},
   "outputs": [],
   "source": [
    "# Plot\n",
    "plt.semilogy(t, ydata, 'o')\n",
    "plt.semilogy(t, fitted)\n",
    "plt.title(\"Fit of SIR model for Germany cases\")\n",
    "plt.ylabel(\"Population infected\")\n",
    "plt.xlabel(\"Days\")\n",
    "plt.show()\n",
    "print(\"Optimal parameters: beta =\", popt[0], \" and gamma = \", popt[1])\n",
    "print(\"Basic Reproduction Number R0 \" , popt[0]/ popt[1])\n",
    "print(\"This ratio is derived as the expected number of new infections (these new infections are sometimes called secondary infections from a single infection in a population where all subjects are susceptible. @wiki\")"
   ]
  },
  {
   "cell_type": "markdown",
   "metadata": {},
   "source": [
    "# Dynamic beta in SIR (Infection Rate)"
   ]
  },
  {
   "cell_type": "markdown",
   "metadata": {},
   "source": [
    "- Consider the change in beta according to behaviour of people"
   ]
  },
  {
   "cell_type": "code",
   "execution_count": null,
   "metadata": {},
   "outputs": [],
   "source": [
    "t_initial=25           # Initial days, people are not much aware \n",
    "t_intro_measures=10    # For this period people start to take precautions\n",
    "t_hold=20              # People still take precautions\n",
    "t_relax=30             # People start relaxing and do not take precautions\n",
    "\n",
    "beta_max=0.4\n",
    "beta_min=0.11\n",
    "gamma=0.1\n",
    "\n",
    "# Calculate beta for each day\n",
    "pd_beta=np.concatenate((np.array(t_initial*[beta_max]),\n",
    "                       np.linspace(beta_max,beta_min,t_intro_measures),\n",
    "                       np.array(t_hold*[beta_min]),\n",
    "                        np.linspace(beta_min,beta_max,t_relax),\n",
    "                       ))"
   ]
  },
  {
   "cell_type": "code",
   "execution_count": null,
   "metadata": {},
   "outputs": [],
   "source": [
    "pd_beta"
   ]
  },
  {
   "cell_type": "code",
   "execution_count": null,
   "metadata": {},
   "outputs": [],
   "source": [
    "SIR=np.array([S0,I0,R0])\n",
    "\n",
    "propagation_rates=pd.DataFrame(columns={'susceptible':S0,\n",
    "                                        'infected':I0,\n",
    "                                        'recoverd':R0})\n",
    "\n",
    "for each_beta in pd_beta:\n",
    "    new_delta_vec=SIR_model(SIR,each_beta,gamma)\n",
    "    SIR=SIR+new_delta_vec\n",
    "    propagation_rates=propagation_rates.append({'susceptible':SIR[0],\n",
    "                                                'infected':SIR[1],\n",
    "                                                'recovered':SIR[2]}, ignore_index=True)"
   ]
  },
  {
   "cell_type": "code",
   "execution_count": null,
   "metadata": {},
   "outputs": [],
   "source": [
    "fig, ax1 = plt.subplots(1, 1)\n",
    "\n",
    "ax1.plot(propagation_rates.index,propagation_rates.infected,label='infected',linewidth=3)\n",
    "\n",
    "t_phases=np.array([t_initial,t_intro_measures,t_hold,t_relax]).cumsum()\n",
    "ax1.bar(np.arange(len(ydata)),ydata, width=0.8,label=' Current infected Germany',color='r')\n",
    "ax1.axvspan(0,t_phases[0], facecolor='b', alpha=0.2,label='No measures')\n",
    "ax1.axvspan(t_phases[0],t_phases[1], facecolor='b', alpha=0.3,label='Hard measures introduced')\n",
    "ax1.axvspan(t_phases[1],t_phases[2], facecolor='b', alpha=0.4,label='Hold measures')\n",
    "ax1.axvspan(t_phases[2],t_phases[3], facecolor='b', alpha=0.5,label='Relax measures')\n",
    "ax1.axvspan(t_phases[3],len(propagation_rates.infected), facecolor='b', alpha=0.6,label='Repead hard measures')\n",
    "\n",
    "ax1.set_ylim(10, 1.5*max(propagation_rates.infected))\n",
    "ax1.set_yscale('log')\n",
    "ax1.set_title('Scenario SIR simulations(demonstration purposes only)',size=16)\n",
    "ax1.set_xlabel('Time in days',size=16)\n",
    "ax1.set_ylabel('Number of individuals',size=16)\n",
    "ax1.legend(loc='best',\n",
    "           prop={'size': 16});\n"
   ]
  }
 ],
 "metadata": {
  "kernelspec": {
   "display_name": "Python 3",
   "language": "python",
   "name": "python3"
  },
  "language_info": {
   "codemirror_mode": {
    "name": "ipython",
    "version": 3
   },
   "file_extension": ".py",
   "mimetype": "text/x-python",
   "name": "python",
   "nbconvert_exporter": "python",
   "pygments_lexer": "ipython3",
   "version": "3.7.6"
  }
 },
 "nbformat": 4,
 "nbformat_minor": 4
}
