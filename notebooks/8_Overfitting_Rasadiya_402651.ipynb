{
 "cells": [
  {
   "cell_type": "code",
   "execution_count": null,
   "metadata": {},
   "outputs": [],
   "source": [
    "import matplotlib as mpl\n",
    "import pandas as pd\n",
    "import numpy as np\n",
    "import os\n",
    "import matplotlib.pyplot as plt\n",
    "%matplotlib inline\n",
    "mpl.rcParams['figure.figsize'] = (16, 10)\n",
    "pd.set_option('display.max_rows', 500)\n",
    "import plotly.graph_objects as go"
   ]
  },
  {
   "cell_type": "markdown",
   "metadata": {},
   "source": [
    "![](Business_understanding.jpeg)"
   ]
  },
  {
   "cell_type": "markdown",
   "metadata": {},
   "source": [
    "# Data Load"
   ]
  },
  {
   "cell_type": "code",
   "execution_count": null,
   "metadata": {},
   "outputs": [],
   "source": [
    "df_analyse=pd.read_csv('E:/ads_covid-19/data/processed/COVID_small_sync_timeline_table.csv',sep=';')"
   ]
  },
  {
   "cell_type": "code",
   "execution_count": null,
   "metadata": {},
   "outputs": [],
   "source": [
    "df_analyse.sort_values('date',ascending=True).head()"
   ]
  },
  {
   "cell_type": "code",
   "execution_count": null,
   "metadata": {},
   "outputs": [],
   "source": [
    "country_list = df_analyse.columns[1:]"
   ]
  },
  {
   "cell_type": "markdown",
   "metadata": {},
   "source": [
    "# Helper Functions"
   ]
  },
  {
   "cell_type": "code",
   "execution_count": null,
   "metadata": {},
   "outputs": [],
   "source": [
    "def quick_plot(x_in, df, y_scale = 'log', slider = False, xname = ' ', yname = ' ', figname = ' '):\n",
    "    \"\"\" Quick basic plot for quick static evaluation of a time series\n",
    "    \n",
    "        you can push selective columns of your data frame by .iloc[:,[0,6,7,8]]\n",
    "        \n",
    "        Parameters:\n",
    "        ----------\n",
    "        x_in : array \n",
    "            array of date time object, or array of numbers\n",
    "        df_input : pandas dataframe \n",
    "            the plotting matrix where each column is plotted\n",
    "            the name of the column will be used for the legend\n",
    "        scale: str\n",
    "            y-axis scale as 'log' or 'linear'\n",
    "        slider: bool\n",
    "            True or False for x-axis slider\n",
    "        xname : str\n",
    "            Title of the X axis\n",
    "        yname : str\n",
    "            Title of the Y axis\n",
    "        figname : str\n",
    "            Title of the figure\n",
    "        \n",
    "        Returns:\n",
    "        ----------\n",
    "        Return type: Figure\n",
    "    \n",
    "    \"\"\"    \n",
    "    fig = go.Figure()\n",
    "    for each in df.columns:\n",
    "        fig.add_trace(go.Scatter(x=x_in, \n",
    "                                 y=df[each], \n",
    "                                 name= each,\n",
    "                                 mode= 'markers+lines',\n",
    "                                 line_width = 1,\n",
    "                                 marker_size = 3)\n",
    "                     )\n",
    "    fig.update_layout(xaxis_title = xname,\n",
    "                      yaxis_title = yname,\n",
    "                      width = 1000, \n",
    "                      height = 800,\n",
    "                      title={\n",
    "                        'text': figname,\n",
    "                        'y':0.9,\n",
    "                        'x':0.5,\n",
    "                        'xanchor': 'center',\n",
    "                        'yanchor': 'top'}\n",
    "                    )\n",
    "    fig.update_yaxes(type = y_scale)\n",
    "    fig.update_xaxes(tickangle=-45,\n",
    "                 nticks=20,\n",
    "                 tickfont=dict(size=14,color=\"#7f7f7f\")\n",
    "                )    \n",
    "    if slider==True:\n",
    "        fig.update_layout(xaxis_rangeslider_visible=True)\n",
    "    fig.show()"
   ]
  },
  {
   "cell_type": "code",
   "execution_count": null,
   "metadata": {},
   "outputs": [],
   "source": [
    "def mean_absolute_percentage_error(y_true, y_pred): \n",
    "    y_true, y_pred = np.array(y_true), np.array(y_pred)\n",
    "    return np.mean(np.abs((y_true - y_pred) / y_true)) * 100"
   ]
  },
  {
   "cell_type": "markdown",
   "metadata": {},
   "source": [
    "# Fitting a Polynomial Curve"
   ]
  },
  {
   "cell_type": "markdown",
   "metadata": {},
   "source": [
    "- Polynomial interpolation example: https://scikit-learn.org/stable/auto_examples/linear_model/plot_polynomial_interpolation.html#sphx-glr-auto-examples-linear-model-plot-polynomial-interpolation-py"
   ]
  },
  {
   "cell_type": "code",
   "execution_count": null,
   "metadata": {},
   "outputs": [],
   "source": [
    "from sklearn.preprocessing import PolynomialFeatures\n",
    "from sklearn.linear_model import LinearRegression\n",
    "from sklearn.pipeline import make_pipeline"
   ]
  },
  {
   "cell_type": "code",
   "execution_count": null,
   "metadata": {},
   "outputs": [],
   "source": [
    "df_poly_check = df_analyse.iloc[0:27,4:-1].reset_index()"
   ]
  },
  {
   "cell_type": "code",
   "execution_count": null,
   "metadata": {},
   "outputs": [],
   "source": [
    "df_poly_check.head()"
   ]
  },
  {
   "cell_type": "code",
   "execution_count": null,
   "metadata": {},
   "outputs": [],
   "source": [
    "y = df_poly_check[['India','US','Italy','Spain','Germany']].unstack().sort_index(axis=0, level=1)\n",
    "y.tail()"
   ]
  },
  {
   "cell_type": "code",
   "execution_count": null,
   "metadata": {},
   "outputs": [],
   "source": [
    "# Prepare train and test data\n",
    "test_points = 28\n",
    "y_train = y[0:-test_points-1]\n",
    "y_test = y[-test_points:]\n",
    "X_train = np.arange(len(y_train)).reshape(-1,1)/5.0\n",
    "X_test = np.arange(len(y_train),len(y_train)+test_points).reshape(-1,1)/5.0"
   ]
  },
  {
   "cell_type": "code",
   "execution_count": null,
   "metadata": {},
   "outputs": [],
   "source": [
    "import seaborn\n",
    "seaborn.set(rc={'figure.figsize':(16,8)})  # plot formatting, prepare for subplot "
   ]
  },
  {
   "cell_type": "markdown",
   "metadata": {},
   "source": [
    "- PolynomialFeatures: https://scikit-learn.org/stable/modules/generated/sklearn.preprocessing.PolynomialFeatures.html\n",
    "- make_pipeline: https://scikit-learn.org/stable/modules/generated/sklearn.pipeline.make_pipeline.html?highlight=pipeline#sklearn.pipeline.make_pipeline"
   ]
  },
  {
   "cell_type": "code",
   "execution_count": null,
   "metadata": {},
   "outputs": [],
   "source": [
    "def PolynomialRegression(degree = 2, **kwarg):\n",
    "    return make_pipeline(PolynomialFeatures(degree), LinearRegression(**kwarg))"
   ]
  },
  {
   "cell_type": "code",
   "execution_count": null,
   "metadata": {},
   "outputs": [],
   "source": [
    "fig, ax = plt.subplots(1,1)\n",
    "ax.scatter(np.arange(len(y))/5, y, color = 'blue') \n",
    "ax.axvspan((len(y)-test_points-1)/5, len(y)/5, facecolor='r', alpha=0.5)\n",
    "ax.set_xlabel(\"Day\")\n",
    "ax.set_ylabel(\"Number of cases\")\n",
    "\n",
    "for degree in [1,3,7,15]:\n",
    "    y_hat_insample = PolynomialRegression(degree).fit(X_train, y_train).predict(X_train)\n",
    "    y_hat_test = PolynomialRegression(degree).fit(X_train, y_train).predict(X_test)\n",
    "    X_plot=np.concatenate((X_train, X_test), axis=None)\n",
    "    y_plot=np.concatenate((y_hat_insample, y_hat_test), axis=None)\n",
    "    \n",
    "    ax.plot(X_plot, y_plot, label='degree={0}'.format(degree)+ \n",
    "                 '     MAPE train:  ' + str(mean_absolute_percentage_error(y_hat_insample, y_train))[0:3]\n",
    "                 +'    MAPE test    ' +str(mean_absolute_percentage_error(y_hat_test, y_test))[0:3])\n",
    "ax.set_ylim(100, 150000)\n",
    "ax.set_yscale('log')\n",
    "ax.legend(loc='best',\n",
    "           prop={'size': 16});"
   ]
  }
 ],
 "metadata": {
  "kernelspec": {
   "display_name": "Python 3",
   "language": "python",
   "name": "python3"
  },
  "language_info": {
   "codemirror_mode": {
    "name": "ipython",
    "version": 3
   },
   "file_extension": ".py",
   "mimetype": "text/x-python",
   "name": "python",
   "nbconvert_exporter": "python",
   "pygments_lexer": "ipython3",
   "version": "3.7.6"
  }
 },
 "nbformat": 4,
 "nbformat_minor": 4
}
