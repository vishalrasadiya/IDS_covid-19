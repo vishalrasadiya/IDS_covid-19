{
 "cells": [
  {
   "cell_type": "code",
   "execution_count": null,
   "metadata": {},
   "outputs": [],
   "source": [
    "import pandas as pd\n",
    "import numpy as np\n",
    "from datetime import datetime\n",
    "import pandas as pd \n",
    "from scipy import optimize\n",
    "from scipy import integrate\n",
    "\n",
    "%matplotlib inline\n",
    "import matplotlib as mpl\n",
    "import matplotlib.pyplot as plt\n",
    "import seaborn as sns\n",
    "sns.set(style=\"darkgrid\")\n",
    "mpl.rcParams['figure.figsize'] = (16, 9)\n",
    "pd.set_option('display.max_rows', 500)"
   ]
  },
  {
   "cell_type": "code",
   "execution_count": null,
   "metadata": {},
   "outputs": [],
   "source": [
    "import plotly.graph_objects as go\n",
    "import plotly"
   ]
  },
  {
   "cell_type": "code",
   "execution_count": null,
   "metadata": {},
   "outputs": [],
   "source": [
    "data_raw = pd.read_csv('E:/ads_covid-19/data/raw/COVID-19/csse_covid_19_data/csse_covid_19_time_series/time_series_covid19_confirmed_global.csv')"
   ]
  },
  {
   "cell_type": "code",
   "execution_count": null,
   "metadata": {},
   "outputs": [],
   "source": [
    "country_list = data_raw['Country/Region'].unique()\n",
    "date = data_raw.columns[4:]"
   ]
  },
  {
   "cell_type": "code",
   "execution_count": null,
   "metadata": {},
   "outputs": [],
   "source": [
    "df_SIR = pd.DataFrame({'Date': date})"
   ]
  },
  {
   "cell_type": "code",
   "execution_count": null,
   "metadata": {},
   "outputs": [],
   "source": [
    "for each in country_list:\n",
    "    df_SIR[each] = np.array(data_raw[data_raw['Country/Region'] == each].iloc[:,4::].sum(axis=0)).T\n",
    "df_SIR.to_csv(\"E:/ads_covid-19/data/raw/COVID-19/csse_covid_19_data/SIR_raw.csv\", sep = ';', index=False)"
   ]
  },
  {
   "cell_type": "markdown",
   "metadata": {},
   "source": [
    "# SIR Calculation"
   ]
  },
  {
   "cell_type": "code",
   "execution_count": null,
   "metadata": {
    "scrolled": true
   },
   "outputs": [],
   "source": [
    "df_analyse=pd.read_csv('E:/ads_covid-19/data/raw/COVID-19/csse_covid_19_data/SIR_raw.csv',sep=';')  \n",
    "df_analyse.sort_values('Date',ascending=True)\n",
    "\n",
    "N0 = 1000000 # Maximum susceptible population\n",
    "beta = 0.4   # Infection spread dynamics\n",
    "gamma = 0.1  # Recovery rate\n",
    "\n",
    "I0=df_analyse.Germany[35] # Starting from 35th day\n",
    "S0=N0-I0\n",
    "R0=0"
   ]
  },
  {
   "cell_type": "code",
   "execution_count": null,
   "metadata": {},
   "outputs": [],
   "source": [
    "df_data = df_analyse[35:] # We will consider data from 35th day, which is 26th Feb 2020 \n",
    "t = np.arange(df_data.shape[0])"
   ]
  },
  {
   "cell_type": "code",
   "execution_count": null,
   "metadata": {},
   "outputs": [],
   "source": [
    "def SIR_model_t(SIR, t, beta, gamma):\n",
    "    ''' Simple SIR model\n",
    "        S: Susceptible population\n",
    "        I: Infected people\n",
    "        R: Recovered people\n",
    "        beta: Infection spread dynamics\n",
    "        gamma: Recovery rate\n",
    "        \n",
    "        overall condition is that the sum of changes(differnces) sum up to 0\n",
    "        dS+dI+dR=0\n",
    "        \n",
    "        S+I+R= N (constant size of population)\n",
    "    \n",
    "    '''\n",
    "    S,I,R=SIR\n",
    "    dS_dt = -beta*I*S/N0\n",
    "    dI_dt = beta*I*S/N0 - gamma*I\n",
    "    dR_dt = gamma*I\n",
    "    \n",
    "    return dS_dt, dI_dt, dR_dt"
   ]
  },
  {
   "cell_type": "code",
   "execution_count": null,
   "metadata": {},
   "outputs": [],
   "source": [
    "def fit_odeint(x, beta, gamma):\n",
    "    return integrate.odeint(SIR_model_t, (S0, I0, R0), x, args=(beta, gamma))[:,1] "
   ]
  },
  {
   "cell_type": "code",
   "execution_count": null,
   "metadata": {},
   "outputs": [],
   "source": [
    "for country in df_data.columns[1:]:\n",
    "        ydata = np.array(df_data[df_data[country]>0][country]) \n",
    "        t = np.arange(len(ydata))\n",
    "        I0=ydata[0]\n",
    "        S0=N0-I0\n",
    "        R0=0\n",
    "        popt=[0.4,0.1]\n",
    "        fit_odeint(t, *popt)\n",
    "        popt, pcov = optimize.curve_fit(fit_odeint, t, ydata, maxfev=5000)\n",
    "        perr = np.sqrt(np.diag(pcov))\n",
    "    \n",
    "        #print('standard deviation errors : ',str(perr), ' start infect:',ydata[0])\n",
    "        #print(\"Optimal parameters: beta =\", popt[0], \" and gamma = \", popt[1])\n",
    "        fitted=fit_odeint(t, *popt)\n",
    "        f_padded = np.concatenate((np.zeros(df_data.shape[0]-len(fitted)) ,fitted)) #to make dimentions equal\n",
    "        df_data[country + '_fitted'] = f_padded\n",
    "df_data.to_csv(\"E:/ads_covid-19/data/processed/SIR_calculated.csv\", sep = ';', index=False)        "
   ]
  },
  {
   "cell_type": "markdown",
   "metadata": {},
   "source": [
    "# SIR Visualization for One Country"
   ]
  },
  {
   "cell_type": "code",
   "execution_count": null,
   "metadata": {},
   "outputs": [],
   "source": [
    "df_data = pd.read_csv('E:/ads_covid-19/data/processed/SIR_calculated.csv',sep=';')\n",
    "df_data = df_data.reset_index(drop=True)"
   ]
  },
  {
   "cell_type": "code",
   "execution_count": null,
   "metadata": {},
   "outputs": [],
   "source": [
    "fig = go.Figure()\n",
    "fig.add_trace(go.Scatter(x = df_data.index, \n",
    "                             y = df_data['Germany_fitted'],\n",
    "                             name= 'fitted',\n",
    "                             mode='markers+lines',\n",
    "                             line_width = 1,\n",
    "                             marker_size = 3\n",
    "                                 \n",
    "                            ),\n",
    "                 )\n",
    "\n",
    "fig.add_trace(go.Scatter(x = df_data.index, \n",
    "                             y = df_data['Germany'],\n",
    "                             name= 'source',\n",
    "                             mode='markers+lines',\n",
    "                             line_width = 1,\n",
    "                             marker_size = 3\n",
    "                                 \n",
    "                            ),\n",
    "                 )\n",
    "\n",
    "fig.update_layout(title={\n",
    "                        'text': \"Germany\",\n",
    "                        'y':0.9,\n",
    "                        'x':0.5,\n",
    "                        'xanchor': 'center',\n",
    "                        'yanchor': 'top'},\n",
    "                  xaxis_title='Days', \n",
    "                  yaxis_title='Population infected',\n",
    "                  width = 1000, \n",
    "                  height = 800)\n",
    "fig.update_yaxes(type = 'log')\n",
    "fig.update_layout(xaxis_rangeslider_visible=True)"
   ]
  },
  {
   "cell_type": "markdown",
   "metadata": {},
   "source": [
    "# SIR Dashboard"
   ]
  },
  {
   "cell_type": "markdown",
   "metadata": {},
   "source": [
    "- To visualize actual and simulated number of infected population"
   ]
  },
  {
   "cell_type": "code",
   "execution_count": null,
   "metadata": {},
   "outputs": [],
   "source": [
    "import dash\n",
    "dash.__version__\n",
    "import dash_core_components as dcc\n",
    "import dash_html_components as html\n",
    "from dash.dependencies import Input, Output,State"
   ]
  },
  {
   "cell_type": "code",
   "execution_count": null,
   "metadata": {},
   "outputs": [],
   "source": [
    "import os\n",
    "print(os.getcwd())"
   ]
  },
  {
   "cell_type": "code",
   "execution_count": null,
   "metadata": {},
   "outputs": [],
   "source": [
    "df_dash = pd.read_csv('E:/ads_covid-19/data/processed/SIR_calculated.csv',sep=';')\n",
    "df_dash = df_data.reset_index(drop=True)"
   ]
  },
  {
   "cell_type": "code",
   "execution_count": null,
   "metadata": {},
   "outputs": [],
   "source": [
    "fig = go.Figure()\n",
    "app = dash.Dash()\n",
    "app.layout = html.Div([\n",
    "\n",
    "    dcc.Markdown('''\n",
    "    #  Actual and Simulated Number of Infected People   \n",
    "    '''),\n",
    "    \n",
    "    dcc.Markdown('''\n",
    "    ##  Plot shows actual number of infected people and simulated number of infected people for different countries derived from SIR model.   \n",
    "    '''),\n",
    "    \n",
    "    dcc.Markdown('''\n",
    "    ### Select the country:\n",
    "    '''),\n",
    "\n",
    "\n",
    "    dcc.Dropdown(\n",
    "        id='country_drop_down',\n",
    "        options=[ {'label': each,'value':each} for each in df_dash.columns[1:187]],\n",
    "        value=['Germany'], # Which is pre-selected\n",
    "        multi=True\n",
    "    ),\n",
    "\n",
    "\n",
    "    dcc.Graph(figure=fig, id='SIR')\n",
    "])\n",
    "\n",
    "\n",
    "\n",
    "@app.callback(\n",
    "    Output('SIR', 'figure'),\n",
    "    [Input('country_drop_down', 'value')])\n",
    "def update_figure(country_list):\n",
    "\n",
    "\n",
    "    traces = []\n",
    "    for each in country_list:\n",
    "\n",
    "        df_plot=df_dash[[each, each+'_fitted']]\n",
    "        \n",
    "        traces.append(dict(x=df_plot.index,\n",
    "                                y=df_plot[each],\n",
    "                                mode='markers+lines',\n",
    "                                opacity=0.9,\n",
    "                                name=each\n",
    "                        )\n",
    "                )\n",
    "        traces.append(dict(x=df_plot.index,\n",
    "                                y=df_plot[each+'_fitted'],\n",
    "                                mode='markers+lines',\n",
    "                                opacity=0.9,\n",
    "                                name=each+'_simulated'\n",
    "                        )\n",
    "                )\n",
    "        \n",
    "    return {\n",
    "            'data': traces,\n",
    "            'layout': dict (\n",
    "                width=1700,\n",
    "                height=870,\n",
    "\n",
    "                xaxis={'title':'Timeline',\n",
    "                        'tickangle':-45,\n",
    "                        'nticks':20,\n",
    "                        'tickfont':dict(size=20,color=\"#7f7f7f\"), \n",
    "                        'titlefont': dict(size=25)\n",
    "                       \n",
    "                      },\n",
    "\n",
    "                yaxis={'type':\"log\", 'title':'Number of infected people (log-scale)',\n",
    "                       'tickfont':dict(size=18,color=\"#7f7f7f\"),\n",
    "                       'titlefont': dict(size=25)\n",
    "                      },\n",
    "                \n",
    "        ) \n",
    "    }\n",
    "\n",
    "if __name__ == '__main__':\n",
    "\n",
    "    app.run_server(debug=True, use_reloader=False)\n"
   ]
  },
  {
   "cell_type": "code",
   "execution_count": null,
   "metadata": {},
   "outputs": [],
   "source": []
  },
  {
   "cell_type": "code",
   "execution_count": null,
   "metadata": {},
   "outputs": [],
   "source": []
  }
 ],
 "metadata": {
  "kernelspec": {
   "display_name": "Python 3",
   "language": "python",
   "name": "python3"
  },
  "language_info": {
   "codemirror_mode": {
    "name": "ipython",
    "version": 3
   },
   "file_extension": ".py",
   "mimetype": "text/x-python",
   "name": "python",
   "nbconvert_exporter": "python",
   "pygments_lexer": "ipython3",
   "version": "3.7.6"
  }
 },
 "nbformat": 4,
 "nbformat_minor": 4
}
